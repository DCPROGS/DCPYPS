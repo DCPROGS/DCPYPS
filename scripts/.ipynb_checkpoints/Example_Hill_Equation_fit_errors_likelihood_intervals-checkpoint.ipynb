{
 "cells": [
  {
   "cell_type": "markdown",
   "metadata": {},
   "source": [
    "# Fit Hill equation to data points"
   ]
  },
  {
   "cell_type": "markdown",
   "metadata": {},
   "source": [
    "##### General settings"
   ]
  },
  {
   "cell_type": "code",
   "execution_count": 1,
   "metadata": {
    "collapsed": true
   },
   "outputs": [],
   "source": [
    "%matplotlib inline\n",
    "import matplotlib.pyplot as plt"
   ]
  },
  {
   "cell_type": "code",
   "execution_count": 2,
   "metadata": {
    "collapsed": true
   },
   "outputs": [],
   "source": [
    "import numpy as np\n",
    "from scipy.optimize import minimize"
   ]
  },
  {
   "cell_type": "code",
   "execution_count": 3,
   "metadata": {
    "collapsed": true
   },
   "outputs": [],
   "source": [
    "from dcpyps import dcio\n",
    "from dcpyps import dcplots\n",
    "import dcpyps.dcfits.dataIO as dataIO\n",
    "from dcpyps.dcfits.equations import MultiExponentialPDF\n",
    "from dcpyps.dcfits.stats import ObservedInformation\n",
    "from dcpyps.dcfits.stats import LikelihoodIntervals"
   ]
  },
  {
   "cell_type": "markdown",
   "metadata": {},
   "source": [
    "### Load and display data points"
   ]
  },
  {
   "cell_type": "code",
   "execution_count": 4,
   "metadata": {
    "collapsed": false
   },
   "outputs": [
    {
     "name": "stdout",
     "output_type": "stream",
     "text": [
      "File ../dcpyps/samples/etc/CVFITExample.xlsx loaded\n",
      "5 sets found.\n"
     ]
    }
   ],
   "source": [
    "filename = (\"../dcpyps/samples/etc/CVFITExample.xlsx\")\n",
    "allsets = dataIO.read_sets_from_Excel(filename, sheet=0, skip_lines=0, set_cols=2)\n",
    "print('File {0} loaded'.format(filename))\n",
    "print('{0:d} sets found.'.format(len(allsets)))"
   ]
  },
  {
   "cell_type": "code",
   "execution_count": 5,
   "metadata": {
    "collapsed": false
   },
   "outputs": [
    {
     "name": "stdout",
     "output_type": "stream",
     "text": [
      "\n",
      "Set #1:\n",
      "\n",
      "X\tY\ts(Y)\tweight\n",
      "30\t54\t0\t1\n",
      "100\t538\t0\t1\n",
      "300\t2745\t0\t1\n",
      "1000\t6493\t0\t1\n",
      "3000\t8450\t0\t1\n",
      "3000\t9793\t0\t1\n",
      "3000\t9647\t0\t1\n",
      "3000\t10023\t0\t1\n",
      "3000\t9025\t0\t1\n",
      "3000\t9341\t0\t1\n",
      "10000\t10349\t0\t1\n",
      "10000\t10467\t0\t1\n",
      "30000\t11527\t0\t1\n",
      "30000\t10946\t0\t1\n",
      "\n",
      "\n",
      "Set #2:\n",
      "\n",
      "X\tY\ts(Y)\tweight\n",
      "30\t91\t0\t1\n",
      "100\t645\t0\t1\n",
      "300\t2460\t0\t1\n",
      "600\t3592\t0\t1\n",
      "1000\t4369\t0\t1\n",
      "1000\t4598\t0\t1\n",
      "1000\t4752\t0\t1\n",
      "1000\t4724\t0\t1\n",
      "1000\t4412\t0\t1\n",
      "3000\t6430\t0\t1\n",
      "10000\t7227\t0\t1\n",
      "30000\t7970\t0\t1\n",
      "30000\t7976\t0\t1\n",
      "\n",
      "\n",
      "Set #3:\n",
      "\n",
      "X\tY\ts(Y)\tweight\n",
      "100\t1731\t0\t1\n",
      "300\t7829\t0\t1\n",
      "600\t11922\t0\t1\n",
      "1000\t14397\t0\t1\n",
      "3000\t16500\t0\t1\n",
      "3000\t17804\t0\t1\n",
      "3000\t18528\t0\t1\n",
      "3000\t18820\t0\t1\n",
      "10000\t18818\t0\t1\n",
      "30000\t19593.5\t0\t1\n",
      "\n",
      "\n",
      "Set #4:\n",
      "\n",
      "X\tY\ts(Y)\tweight\n",
      "30\t305\t0\t1\n",
      "100\t1856\t0\t1\n",
      "300\t7834.5\t0\t1\n",
      "600\t8970\t0\t1\n",
      "600\t9534\t0\t1\n",
      "600\t11256\t0\t1\n",
      "600\t10424\t0\t1\n",
      "600\t12133\t0\t1\n",
      "1000\t13201\t0\t1\n",
      "3000\t16686\t0\t1\n",
      "10000\t17145\t0\t1\n",
      "30000\t16329\t0\t1\n",
      "\n",
      "\n",
      "Set #5:\n",
      "\n",
      "X\tY\ts(Y)\tweight\n",
      "100\t980\t0\t1\n",
      "300\t3193\t0\t1\n",
      "600\t4949\t0\t1\n",
      "1000\t4806\t0\t1\n",
      "1000\t6183\t0\t1\n",
      "1000\t6188\t0\t1\n",
      "1000\t6162\t0\t1\n",
      "1000\t6355\t0\t1\n",
      "1000\t6190\t0\t1\n",
      "3000\t8658\t0\t1\n",
      "10000\t9165\t0\t1\n",
      "10000\t9284\t0\t1\n",
      "10000\t9000\t0\t1\n",
      "30000\t9276\t0\t1\n",
      "30000\t9492\t0\t1\n",
      "30000\t9674\t0\t1\n",
      "\n"
     ]
    }
   ],
   "source": [
    "for i in range(len(allsets)):\n",
    "        print ('\\nSet #{0:d}:'.format(i+1))\n",
    "        print (allsets[i])"
   ]
  },
  {
   "cell_type": "markdown",
   "metadata": {},
   "source": [
    "Inspect loaded sets"
   ]
  },
  {
   "cell_type": "code",
   "execution_count": 9,
   "metadata": {
    "collapsed": false
   },
   "outputs": [
    {
     "data": {
      "text/plain": [
       "<matplotlib.legend.Legend at 0x72eb7b0>"
      ]
     },
     "execution_count": 9,
     "metadata": {},
     "output_type": "execute_result"
    },
    {
     "data": {
      "image/png": "[encoded data removed]",
      "text/plain": [
       "<matplotlib.figure.Figure at 0x736d5d0>"
      ]
     },
     "metadata": {},
     "output_type": "display_data"
    }
   ],
   "source": [
    "fig = plt.figure(figsize=(8,3))\n",
    "ax = fig.add_subplot(121)\n",
    "\n",
    "for dataset in allsets: \n",
    "    if dataset.S.any() == 0:\n",
    "        ax.plot(dataset.X, dataset.Y, 'o', label=dataset.title)\n",
    "    else: \n",
    "        ax.errorbar(dataset.X, dataset.Y, yerr=dataset.S, fmt='o', label=dataset.title)\n",
    "ax.set_xscale('log')\n",
    "ax.legend(loc=2)"
   ]
  },
  {
   "cell_type": "markdown",
   "metadata": {},
   "source": [
    "### Load Hill equation"
   ]
  },
  {
   "cell_type": "code",
   "execution_count": 11,
   "metadata": {
    "collapsed": false
   },
   "outputs": [],
   "source": [
    "eqname = 'Hill'\n",
    "if eqname == 'Hill' or eqname == 'Langmuir':\n",
    "    from dcpyps.dcfits.equations import Hill as eqfit"
   ]
  },
  {
   "cell_type": "code",
   "execution_count": null,
   "metadata": {
    "collapsed": true
   },
   "outputs": [],
   "source": [
    "eqHill = eqfit(eqname)\n",
    "eq.propose_guesses(dataset)"
   ]
  },
  {
   "cell_type": "code",
   "execution_count": 6,
   "metadata": {
    "collapsed": false
   },
   "outputs": [],
   "source": [
    "expPDF = MultiExponentialPDF(intervals, taus=[0.036, 1.1], areas=[0.20])"
   ]
  },
  {
   "cell_type": "code",
   "execution_count": 7,
   "metadata": {
    "collapsed": false
   },
   "outputs": [
    {
     "name": "stdout",
     "output_type": "stream",
     "text": [
      "Start LogLikelihood = 87.31806715582867\n"
     ]
    }
   ],
   "source": [
    "theta = [0.036, 1.1, 0.20]\n",
    "print('Start LogLikelihood =', expPDF.loglik(theta))"
   ]
  },
  {
   "cell_type": "markdown",
   "metadata": {},
   "source": [
    "Minimise log-likelihood function."
   ]
  },
  {
   "cell_type": "code",
   "execution_count": 8,
   "metadata": {
    "collapsed": false
   },
   "outputs": [
    {
     "name": "stdout",
     "output_type": "stream",
     "text": [
      " success: True\n",
      "     nit: 47\n",
      "    nfev: 88\n",
      "       x: array([ 0.03700718,  1.07302608,  0.19874548])\n",
      " message: 'Optimization terminated successfully.'\n",
      "  status: 0\n",
      "     fun: 87.288287733277258\n"
     ]
    }
   ],
   "source": [
    "res = minimize(expPDF.loglik, theta, method='Nelder-Mead')\n",
    "print(res)\n",
    "expPDF.theta = res.x"
   ]
  },
  {
   "cell_type": "markdown",
   "metadata": {},
   "source": [
    "Plot histogramm, estimated exponential pdf and individual components.\n",
    "Print fitted parameter estimates."
   ]
  },
  {
   "cell_type": "code",
   "execution_count": 9,
   "metadata": {
    "collapsed": false
   },
   "outputs": [
    {
     "name": "stdout",
     "output_type": "stream",
     "text": [
      "Tau = 0.037007; lambda (1/s)= 27.021786\n",
      "Area= 0.198745; number = 25.156;amplitude (1/s) = 5.370\n",
      "Tau = 1.073026; lambda (1/s)= 0.931944\n",
      "Area= 0.801255; number = 101.418;amplitude (1/s) = 0.747\n",
      "\n",
      "Overall mean = 0.867122\n",
      "Predicted true number of events = 126\n",
      "Number of fitted = 125\n",
      "Number below Ylow = 0.825; number above Yhigh = 0.749\n",
      "\n"
     ]
    },
    {
     "data": {
      "image/png": "[encoded data removed]",
      "text/plain": [
       "<matplotlib.figure.Figure at 0x8e3ef10>"
      ]
     },
     "metadata": {},
     "output_type": "display_data"
    }
   ],
   "source": [
    "fig = plt.figure(figsize=(4,3))\n",
    "ax = fig.add_subplot(111)\n",
    "dcplots.xlog_hist_expPDF(ax, 0.0001, pdf=expPDF, shut=False) \n",
    "print(expPDF)"
   ]
  },
  {
   "cell_type": "markdown",
   "metadata": {},
   "source": [
    "### Calculate approximate SD"
   ]
  },
  {
   "cell_type": "markdown",
   "metadata": {},
   "source": [
    "Approximate standard deviations of estimated values are calculated using the observed information matrix.   The observed information, or observed Fisher information, is the negative of the second derivative (the Hessian matrix) of the \"log-likelihood\"."
   ]
  },
  {
   "cell_type": "code",
   "execution_count": 10,
   "metadata": {
    "collapsed": false
   },
   "outputs": [
    {
     "name": "stdout",
     "output_type": "stream",
     "text": [
      "Par: 0.037007; approximate SD = 0.014062\n",
      "Par: 1.073026; approximate SD = 0.150420\n",
      "Par: 0.198745; approximate SD = 0.057958\n"
     ]
    }
   ],
   "source": [
    "errs = ObservedInformation(res.x, expPDF, expPDF.loglik)\n",
    "errs.print_errs()"
   ]
  },
  {
   "cell_type": "markdown",
   "metadata": {},
   "source": [
    "### Calculate likelihood intervals"
   ]
  },
  {
   "cell_type": "markdown",
   "metadata": {},
   "source": [
    "The most likely values of the parameters are those that correspond to maximal log-likelihood, $L_{max}$.  The likelihood intervals for for a particular parameter are estimated by holding that parameter at a fixed value away from $L_{max}$ and repeating the fit with all other parameters free to vary. Log-likelihood value so achieved, $L_{crit}$, is less than $L_{max}$.  $L_{crit}$ is obtained for two values of the parameter, one above and one below its maximum likelihood estimate.  These upper and lower limits are usually asymmetrical to the best fit value. "
   ]
  },
  {
   "cell_type": "code",
   "execution_count": 12,
   "metadata": {
    "collapsed": false
   },
   "outputs": [
    {
     "name": "stdout",
     "output_type": "stream",
     "text": [
      "Likelihood intervals\n",
      "Par: 0.037007; approximate SD = 0.014062: lower limit = 0.019458; upper limit = 0.070114\n",
      "Par: 1.073026; approximate SD = 0.150420: lower limit = 0.862273; upper limit = 1.381094\n",
      "Par: 0.198745; approximate SD = 0.057958: lower limit = 0.111328; upper limit = 0.299697\n"
     ]
    }
   ],
   "source": [
    "ll = LikelihoodIntervals(res.x, expPDF, errs.approximateSD)\n",
    "print('Likelihood intervals')\n",
    "ll.print_intervals()"
   ]
  },
  {
   "cell_type": "code",
   "execution_count": null,
   "metadata": {
    "collapsed": true
   },
   "outputs": [],
   "source": []
  }
 ],
 "metadata": {
  "kernelspec": {
   "display_name": "Python 3",
   "language": "python",
   "name": "python3"
  },
  "language_info": {
   "codemirror_mode": {
    "name": "ipython",
    "version": 3
   },
   "file_extension": ".py",
   "mimetype": "text/x-python",
   "name": "python",
   "nbconvert_exporter": "python",
   "pygments_lexer": "ipython3",
   "version": "3.4.3"
  }
 },
 "nbformat": 4,
 "nbformat_minor": 0
}
