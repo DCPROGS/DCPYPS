{
 "cells": [
  {
   "cell_type": "markdown",
   "metadata": {},
   "source": [
    "# Fit exponential distribution to dwell times"
   ]
  },
  {
   "cell_type": "markdown",
   "metadata": {},
   "source": [
    "##### General settings"
   ]
  },
  {
   "cell_type": "code",
   "execution_count": 1,
   "metadata": {
    "collapsed": true
   },
   "outputs": [],
   "source": [
    "%matplotlib inline\n",
    "import matplotlib.pyplot as plt"
   ]
  },
  {
   "cell_type": "code",
   "execution_count": 2,
   "metadata": {
    "collapsed": true
   },
   "outputs": [],
   "source": [
    "import numpy as np\n",
    "from scipy.optimize import minimize"
   ]
  },
  {
   "cell_type": "code",
   "execution_count": 3,
   "metadata": {
    "collapsed": true
   },
   "outputs": [],
   "source": [
    "from dcpyps import dcio\n",
    "from dcpyps import dcplots\n",
    "from dcpyps.dcfits.equations import MultiExponentialPDF\n",
    "from dcpyps.dcfits.stats import ObservedInformation\n",
    "from dcpyps.dcfits.stats import LikelihoodIntervals"
   ]
  },
  {
   "cell_type": "markdown",
   "metadata": {},
   "source": [
    "### Load intervals and plot dwell-time distribution"
   ]
  },
  {
   "cell_type": "code",
   "execution_count": 4,
   "metadata": {
    "collapsed": false
   },
   "outputs": [],
   "source": [
    "intervals = np.array(dcio.txt_load_one_col(\"../dcpyps/samples/etc/intervals.txt\"))"
   ]
  },
  {
   "cell_type": "markdown",
   "metadata": {},
   "source": [
    "Inspect loaded intervals: plot histogramm, calculate average and find range."
   ]
  },
  {
   "cell_type": "code",
   "execution_count": 5,
   "metadata": {
    "collapsed": false
   },
   "outputs": [
    {
     "name": "stdout",
     "output_type": "stream",
     "text": [
      "Mean and SD of 125 intervals = 0.840045 +/- 0.932191\n",
      "\tRange from 0.00107931 to 5.26632\n"
     ]
    },
    {
     "data": {
      "image/png": "[encoded data removed]",
      "text/plain": [
       "<matplotlib.figure.Figure at 0x8a88f70>"
      ]
     },
     "metadata": {},
     "output_type": "display_data"
    }
   ],
   "source": [
    "oxout, oyout, odx = dcplots.prepare_xlog_hist(intervals, 0.0001)\n",
    "# Plot open period histogram\n",
    "fig = plt.figure(figsize=(8,3))\n",
    "ax = fig.add_subplot(121)\n",
    "dcplots.xlog_hist_data(ax, intervals, 0.0001, shut=False)\n",
    "print('Mean and SD of {0:d} intervals = {1:.6g} +/- {2:.6g}'.format\n",
    "      (len(intervals), np.average(intervals), np.std(intervals)))\n",
    "print('\\tRange from {0:.6g} to {1:.6g}'.format(min(intervals),\n",
    "                                                  max(intervals)))"
   ]
  },
  {
   "cell_type": "markdown",
   "metadata": {},
   "source": [
    "### Load exponential pdf and perform maximum likelihood fit"
   ]
  },
  {
   "cell_type": "code",
   "execution_count": 6,
   "metadata": {
    "collapsed": false
   },
   "outputs": [],
   "source": [
    "expPDF = MultiExponentialPDF(intervals, taus=[0.036, 1.1], areas=[0.20])"
   ]
  },
  {
   "cell_type": "code",
   "execution_count": 7,
   "metadata": {
    "collapsed": false
   },
   "outputs": [
    {
     "name": "stdout",
     "output_type": "stream",
     "text": [
      "Start LogLikelihood = 87.31806715582867\n"
     ]
    }
   ],
   "source": [
    "theta = [0.036, 1.1, 0.20]\n",
    "print('Start LogLikelihood =', expPDF.loglik(theta))"
   ]
  },
  {
   "cell_type": "markdown",
   "metadata": {},
   "source": [
    "Minimise log-likelihood function."
   ]
  },
  {
   "cell_type": "code",
   "execution_count": 8,
   "metadata": {
    "collapsed": false
   },
   "outputs": [
    {
     "name": "stdout",
     "output_type": "stream",
     "text": [
      " success: True\n",
      "     nit: 47\n",
      "    nfev: 88\n",
      "       x: array([ 0.03700718,  1.07302608,  0.19874548])\n",
      " message: 'Optimization terminated successfully.'\n",
      "  status: 0\n",
      "     fun: 87.288287733277258\n"
     ]
    }
   ],
   "source": [
    "res = minimize(expPDF.loglik, theta, method='Nelder-Mead')\n",
    "print(res)\n",
    "expPDF.theta = res.x"
   ]
  },
  {
   "cell_type": "markdown",
   "metadata": {},
   "source": [
    "Plot histogramm, estimated exponential pdf and individual components.\n",
    "Print fitted parameter estimates."
   ]
  },
  {
   "cell_type": "code",
   "execution_count": 9,
   "metadata": {
    "collapsed": false
   },
   "outputs": [
    {
     "name": "stdout",
     "output_type": "stream",
     "text": [
      "Tau = 0.037007; lambda (1/s)= 27.021786\n",
      "Area= 0.198745; number = 25.156;amplitude (1/s) = 5.370\n",
      "Tau = 1.073026; lambda (1/s)= 0.931944\n",
      "Area= 0.801255; number = 101.418;amplitude (1/s) = 0.747\n",
      "\n",
      "Overall mean = 0.867122\n",
      "Predicted true number of events = 126\n",
      "Number of fitted = 125\n",
      "Number below Ylow = 0.825; number above Yhigh = 0.749\n",
      "\n"
     ]
    },
    {
     "data": {
      "image/png": "[encoded data removed]",
      "text/plain": [
       "<matplotlib.figure.Figure at 0x8e3ef10>"
      ]
     },
     "metadata": {},
     "output_type": "display_data"
    }
   ],
   "source": [
    "fig = plt.figure(figsize=(4,3))\n",
    "ax = fig.add_subplot(111)\n",
    "dcplots.xlog_hist_expPDF(ax, 0.0001, pdf=expPDF, shut=False) \n",
    "print(expPDF)"
   ]
  },
  {
   "cell_type": "markdown",
   "metadata": {},
   "source": [
    "### Calculate approximate SD"
   ]
  },
  {
   "cell_type": "markdown",
   "metadata": {},
   "source": [
    "Approximate standard deviations of estimated values are calculated using the observed information matrix.   The observed information, or observed Fisher information, is the negative of the second derivative (the Hessian matrix) of the \"log-likelihood\"."
   ]
  },
  {
   "cell_type": "code",
   "execution_count": 10,
   "metadata": {
    "collapsed": false
   },
   "outputs": [
    {
     "name": "stdout",
     "output_type": "stream",
     "text": [
      "Par: 0.037007; approximate SD = 0.014062\n",
      "Par: 1.073026; approximate SD = 0.150420\n",
      "Par: 0.198745; approximate SD = 0.057958\n"
     ]
    }
   ],
   "source": [
    "errs = ObservedInformation(res.x, expPDF, expPDF.loglik)\n",
    "errs.print_errs()"
   ]
  },
  {
   "cell_type": "markdown",
   "metadata": {},
   "source": [
    "### Calculate likelihood intervals"
   ]
  },
  {
   "cell_type": "markdown",
   "metadata": {},
   "source": [
    "The most likely values of the parameters are those that correspond to maximal log-likelihood, $L_{max}$.  The likelihood intervals for for a particular parameter are estimated by holding that parameter at a fixed value away from $L_{max}$ and repeating the fit with all other parameters free to vary. Log-likelihood value so achieved, $L_{crit}$, is less than $L_{max}$.  $L_{crit}$ is obtained for two values of the parameter, one above and one below its maximum likelihood estimate.  These upper and lower limits are usually asymmetrical to the best fit value. "
   ]
  },
  {
   "cell_type": "code",
   "execution_count": 12,
   "metadata": {
    "collapsed": false
   },
   "outputs": [
    {
     "name": "stdout",
     "output_type": "stream",
     "text": [
      "Likelihood intervals\n",
      "Par: 0.037007; approximate SD = 0.014062: lower limit = 0.019458; upper limit = 0.070114\n",
      "Par: 1.073026; approximate SD = 0.150420: lower limit = 0.862273; upper limit = 1.381094\n",
      "Par: 0.198745; approximate SD = 0.057958: lower limit = 0.111328; upper limit = 0.299697\n"
     ]
    }
   ],
   "source": [
    "ll = LikelihoodIntervals(res.x, expPDF, errs.approximateSD)\n",
    "print('Likelihood intervals')\n",
    "ll.print_intervals()"
   ]
  },
  {
   "cell_type": "code",
   "execution_count": null,
   "metadata": {
    "collapsed": true
   },
   "outputs": [],
   "source": []
  }
 ],
 "metadata": {
  "kernelspec": {
   "display_name": "Python 3",
   "language": "python",
   "name": "python3"
  },
  "language_info": {
   "codemirror_mode": {
    "name": "ipython",
    "version": 3
   },
   "file_extension": ".py",
   "mimetype": "text/x-python",
   "name": "python",
   "nbconvert_exporter": "python",
   "pygments_lexer": "ipython3",
   "version": "3.4.3"
  }
 },
 "nbformat": 4,
 "nbformat_minor": 0
}
